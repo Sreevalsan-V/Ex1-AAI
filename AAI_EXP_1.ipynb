{
  "cells": [
    {
      "cell_type": "code",
      "execution_count": 2,
      "metadata": {
        "colab": {
          "base_uri": "https://localhost:8080/"
        },
        "id": "hF8wcQ8unJuV",
        "outputId": "e3100dc8-a78a-4fce-dba2-78f5439b2a0e"
      },
      "outputs": [
        {
          "name": "stdout",
          "output_type": "stream",
          "text": [
            "Collecting pybbn\n",
            "  Downloading pybbn-3.2.3.tar.gz (36 kB)\n",
            "  Preparing metadata (setup.py) ... \u001b[?25l\u001b[?25hdone\n",
            "Requirement already satisfied: numpy in /usr/local/lib/python3.10/dist-packages (from pybbn) (1.25.2)\n",
            "Requirement already satisfied: scipy in /usr/local/lib/python3.10/dist-packages (from pybbn) (1.11.4)\n",
            "Requirement already satisfied: networkx in /usr/local/lib/python3.10/dist-packages (from pybbn) (3.2.1)\n",
            "Requirement already satisfied: pandas in /usr/local/lib/python3.10/dist-packages (from pybbn) (1.5.3)\n",
            "Requirement already satisfied: python-dateutil>=2.8.1 in /usr/local/lib/python3.10/dist-packages (from pandas->pybbn) (2.8.2)\n",
            "Requirement already satisfied: pytz>=2020.1 in /usr/local/lib/python3.10/dist-packages (from pandas->pybbn) (2023.4)\n",
            "Requirement already satisfied: six>=1.5 in /usr/local/lib/python3.10/dist-packages (from python-dateutil>=2.8.1->pandas->pybbn) (1.16.0)\n",
            "Building wheels for collected packages: pybbn\n",
            "  Building wheel for pybbn (setup.py) ... \u001b[?25l\u001b[?25hdone\n",
            "  Created wheel for pybbn: filename=pybbn-3.2.3-py3-none-any.whl size=40373 sha256=4ae0579ad8640fceb18d4a83c9a1541acfe507dcbd9c24374c719f77d5f2cc7f\n",
            "  Stored in directory: /root/.cache/pip/wheels/a7/6f/f1/ec7566a4882ab5c796fb43dfd84062769f75ba5381ca60d2b6\n",
            "Successfully built pybbn\n",
            "Installing collected packages: pybbn\n",
            "Successfully installed pybbn-3.2.3\n"
          ]
        }
      ],
      "source": [
        "pip install pybbn"
      ]
    },
    {
      "cell_type": "code",
      "execution_count": 4,
      "metadata": {
        "id": "oSYGNeC7mdWF"
      },
      "outputs": [],
      "source": [
        "import pandas as pd\n",
        "import networkx as nx\n",
        "import matplotlib.pyplot as plt\n",
        "from pybbn.graph.dag import Bbn\n",
        "from pybbn.graph.edge import Edge, EdgeType\n",
        "from pybbn.graph.jointree import EvidenceBuilder\n",
        "from pybbn.graph.node import BbnNode\n",
        "from pybbn.graph.variable import Variable\n",
        "from pybbn.pptc.inferencecontroller import InferenceController\n",
        "#Set Pandas options to display more columns\n",
        "pd.options.display.max_columns=50\n"
      ]
    },
    {
      "cell_type": "code",
      "execution_count": 7,
      "metadata": {
        "colab": {
          "base_uri": "https://localhost:8080/",
          "height": 1000
        },
        "id": "XTJMoE2IniOT",
        "outputId": "833f5df6-69c3-4b66-bb02-c7d38aca0354"
      },
      "outputs": [
        {
          "name": "stderr",
          "output_type": "stream",
          "text": [
            "<ipython-input-7-5e6d6cb0d9f8>:9: FutureWarning: The default value of numeric_only in DataFrame.mean is deprecated. In a future version, it will default to False. In addition, specifying 'numeric_only=None' is deprecated. Select only valid columns or specify the value of numeric_only to silence this warning.\n",
            "  df=df.fillna(df.mean())\n"
          ]
        },
        {
          "name": "stdout",
          "output_type": "stream",
          "text": [
            "         Date Location  MinTemp  MaxTemp  Rainfall  Evaporation  Sunshine  \\\n",
            "0  2008-12-01   Albury     13.4     22.9       0.6     5.469824  7.624853   \n",
            "1  2008-12-02   Albury      7.4     25.1       0.0     5.469824  7.624853   \n",
            "2  2008-12-03   Albury     12.9     25.7       0.0     5.469824  7.624853   \n",
            "3  2008-12-04   Albury      9.2     28.0       0.0     5.469824  7.624853   \n",
            "4  2008-12-05   Albury     17.5     32.3       1.0     5.469824  7.624853   \n",
            "\n",
            "  WindGustDir  WindGustSpeed WindDir9am WindDir3pm  WindSpeed9am  \\\n",
            "0           W           44.0          W        WNW          20.0   \n",
            "1         WNW           44.0        NNW        WSW           4.0   \n",
            "2         WSW           46.0          W        WSW          19.0   \n",
            "3          NE           24.0         SE          E          11.0   \n",
            "4           W           41.0        ENE         NW           7.0   \n",
            "\n",
            "   WindSpeed3pm  Humidity9am  Humidity3pm  Pressure9am  Pressure3pm  Cloud9am  \\\n",
            "0          24.0         71.0         22.0       1007.7       1007.1  8.000000   \n",
            "1          22.0         44.0         25.0       1010.6       1007.8  4.437189   \n",
            "2          26.0         38.0         30.0       1007.6       1008.7  4.437189   \n",
            "3           9.0         45.0         16.0       1017.6       1012.8  4.437189   \n",
            "4          20.0         82.0         33.0       1010.8       1006.0  7.000000   \n",
            "\n",
            "   Cloud3pm  Temp9am  Temp3pm RainToday RainTomorrow WindGustSpeedCat  \\\n",
            "0  4.503167     16.9     21.8        No           No          1.40-50   \n",
            "1  4.503167     17.2     24.3        No           No          1.40-50   \n",
            "2  2.000000     21.0     23.2        No           No          1.40-50   \n",
            "3  4.503167     18.1     26.5        No           No           0.<=40   \n",
            "4  8.000000     17.8     29.7        No           No          1.40-50   \n",
            "\n",
            "  Humidity9amCat Humidity3pmCat  \n",
            "0          1.>60         0.<=60  \n",
            "1         0.<=60         0.<=60  \n",
            "2         0.<=60         0.<=60  \n",
            "3         0.<=60         0.<=60  \n",
            "4          1.>60         0.<=60  \n"
          ]
        },
        {
          "data": {
            "image/png": "[encoded data removed]",
            "text/plain": [
              "<Figure size 640x480 with 1 Axes>"
            ]
          },
          "metadata": {},
          "output_type": "display_data"
        }
      ],
      "source": [
        "# Read in the weather data csv\n",
        "df=pd.read_csv('weatherAUS.csv', encoding='utf-8')\n",
        "\n",
        "# Drop records where target RainTomorrow=NaN\n",
        "df=df[pd.isnull(df['RainTomorrow'])==False]\n",
        "\n",
        "\n",
        "# For other columns with missing values, fill them in with column mean\n",
        "df=df.fillna(df.mean())\n",
        "\n",
        "\n",
        "# Create bands for variables that we want to use in the model\n",
        "df['WindGustSpeedCat']=df['WindGustSpeed'].apply(lambda x: '0.<=40' if x<=40 else\n",
        "                                                   '1.40-50'  if 40<x<=50 else '2.>50')\n",
        "df['Humidity9amCat' ]=df[ 'Humidity9am'].apply(lambda x: '1.>60' if x>60 else '0.<=60')\n",
        "df['Humidity3pmCat']=df['Humidity3pm'].apply(lambda x: '1.>60' if x>60 else '0.<=60')\n",
        "\n",
        "\n",
        "# Show a snaphsot of data\n",
        "print(df.head())\n",
        "\n",
        "# This function helps to calculate probability distribution, which goes into BBN (note, can handle up to 2 parents)\n",
        "\n",
        "def probs(data, child, parent1=None, parent2=None):\n",
        "  if parent1==None:\n",
        "    prob=pd.crosstab(data[child],'Empty', margins=False, normalize='columns').sort_index().to_numpy().reshape(-1).tolist()\n",
        "  elif parent1!=None:\n",
        "    if parent2==None:\n",
        "      prob=pd.crosstab(data[parent1],data[child], margins=False, normalize='index').sort_index().to_numpy().reshape(-1).tolist()\n",
        "    else:\n",
        "      prob=pd. crosstab([data[parent1], data[parent2]],data[child], margins=False, normalize='index').sort_index().to_numpy().reshape(-1).tolist()\n",
        "  else: print(\"Error in Probability Frequency Calculations\")\n",
        "  return prob\n",
        "\n",
        "\n",
        "# Create nodes by using our earlier function to automatically calculate probabilities\n",
        "\n",
        "H9am = BbnNode(Variable(0, 'H9am', ['<=60', '>60']), probs(df, child='Humidity9amCat'))\n",
        "H3pm = BbnNode(Variable(1, 'H3pm', ['<=60', '>60']), probs(df, child= 'Humidity3pmCat', parent1='Humidity9amCat'))\n",
        "W =BbnNode(Variable(2, 'W', ['<=40', '40-50', '>50']), probs(df, child='WindGustSpeedCat'))\n",
        "RT = BbnNode(Variable(3, 'RT', ['No', 'Yes']), probs(df, child='RainTomorrow', parent1='Humidity3pmCat', parent2='WindGustSpeedCat'))\n",
        "\n",
        "\n",
        "\n",
        "# Create Network\n",
        "\n",
        "bbn= Bbn() \\\n",
        "  .add_node(H9am) \\\n",
        "  .add_node(H3pm) \\\n",
        "  .add_node(W) \\\n",
        "  .add_node(RT) \\\n",
        "  .add_edge(Edge(H9am,H3pm, EdgeType.DIRECTED)) \\\n",
        "  .add_edge(Edge(H3pm, RT, EdgeType.DIRECTED)) \\\n",
        "  .add_edge(Edge(W,RT, EdgeType.DIRECTED))\n",
        "\n",
        "# Convert the BBN to a join tree\n",
        "\n",
        "join_tree =InferenceController.apply(bbn)\n",
        "\n",
        "# Set node positions\n",
        "pos={0: (-1,2), 1: (-1, 0.5), 2: (1, 0.5), 3:(0,-1)}\n",
        "\n",
        "# Set options for graph looks\n",
        "\n",
        "options ={\n",
        "\"font_size\": 16,\n",
        "\"node_size\": 4000,\n",
        "\"node_color\": \"Orange\",\n",
        "\"edgecolors\": \"Green\",\n",
        "\"edge_color\": \"black\",\n",
        "\"linewidths\": 5,\n",
        "\"width\": 5,\n",
        "}\n",
        "\n",
        "\n",
        "# Generate graph\n",
        "n,d=bbn.to_nx_graph()\n",
        "nx.draw(n, with_labels=True,labels=d, pos=pos, **options)\n",
        "\n",
        "\n",
        "# Update margins and print the graph\n",
        "ax=plt.gca()\n",
        "ax.margins (0.20)\n",
        "plt.axis(\"off\")\n",
        "plt.show()\n",
        "\n",
        "\n"
      ]
    },
    {
      "cell_type": "code",
      "execution_count": null,
      "metadata": {
        "id": "mZXOaaEE1kNG"
      },
      "outputs": [],
      "source": []
    }
  ],
  "metadata": {
    "colab": {
      "provenance": []
    },
    "kernelspec": {
      "display_name": "Python 3",
      "name": "python3"
    },
    "language_info": {
      "name": "python"
    }
  },
  "nbformat": 4,
  "nbformat_minor": 0
}
